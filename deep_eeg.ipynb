{
  "nbformat": 4,
  "nbformat_minor": 0,
  "metadata": {
    "colab": {
      "name": "Untitled0.ipynb",
      "provenance": []
    },
    "kernelspec": {
      "name": "python3",
      "display_name": "Python 3"
    }
  },
  "cells": [
    {
      "cell_type": "code",
      "metadata": {
        "id": "fqfJkYCFTbH_",
        "colab_type": "code",
        "colab": {}
      },
      "source": [
        "import numpy as np\n",
        "import matplotlib.pyplot as plt\n",
        "import sklearn.datasets\n",
        "import sklearn.cluster\n",
        "import sklearn.preprocessing\n",
        "import sklearn.neural_network\n",
        "import sklearn.linear_model\n",
        "import sklearn.model_selection\n",
        "import torch\n",
        "import pandas as pd"
      ],
      "execution_count": 0,
      "outputs": []
    },
    {
      "cell_type": "code",
      "metadata": {
        "id": "pNTKSLIgTlEU",
        "colab_type": "code",
        "colab": {}
      },
      "source": [
        "data = pd.read_csv('data.csv', index_col= 0)\n",
        "predictors = data.columns\n",
        "predictors = predictors.drop(['y'])\n",
        "\n",
        "x = np.array(data[predictors])\n",
        "y=np.array(data['y'])\n",
        "y[np.where(y!=1)]=0"
      ],
      "execution_count": 0,
      "outputs": []
    },
    {
      "cell_type": "code",
      "metadata": {
        "id": "_6KqjTPgUx-x",
        "colab_type": "code",
        "colab": {}
      },
      "source": [
        "X_train, X_test, Y_train, Y_test = sklearn.model_selection.train_test_split(x, y, test_size=0.3)\n",
        "scaler = sklearn.preprocessing.StandardScaler()\n",
        "X_train = scaler.fit_transform(X_train)\n",
        "X_test = scaler.transform(X_test)"
      ],
      "execution_count": 0,
      "outputs": []
    },
    {
      "cell_type": "markdown",
      "metadata": {
        "id": "niXfHbxyW5UH",
        "colab_type": "text"
      },
      "source": [
        "# **Red** **Convolucional**"
      ]
    },
    {
      "cell_type": "code",
      "metadata": {
        "id": "YIp0-m7eyp8A",
        "colab_type": "code",
        "colab": {
          "base_uri": "https://localhost:8080/",
          "height": 35
        },
        "outputId": "e4e9b94e-603c-4d36-c374-b04de85a4078"
      },
      "source": [
        "X_new = np.expand_dims(X_train, 1) # necesario para que las dimensiones sean [batch, channel, width]\n",
        "feature_maps = torch.autograd.Variable(torch.Tensor(X_new).float())\n",
        "\n",
        "n = torch.nn.Conv1d(1, 20, 10, stride=1) # in-channels = 1, out-channels = 10, kernel=8\n",
        "feature_maps = n(feature_maps)\n",
        "\n",
        "n = torch.nn.MaxPool1d(kernel_size=5)\n",
        "feature_maps = n(feature_maps)\n",
        "\n",
        "n = torch.nn.Conv1d(20, 1, 5, stride=1)\n",
        "feature_maps = n(feature_maps)\n",
        "print(feature_maps.size())\n",
        "\n"
      ],
      "execution_count": 261,
      "outputs": [
        {
          "output_type": "stream",
          "text": [
            "torch.Size([8050, 1, 29])\n"
          ],
          "name": "stdout"
        }
      ]
    },
    {
      "cell_type": "code",
      "metadata": {
        "id": "U_B0sr99XTQ-",
        "colab_type": "code",
        "colab": {}
      },
      "source": [
        "model = torch.nn.Sequential(\n",
        "    torch.nn.ReLU(),\n",
        "    torch.nn.Conv1d(1, 20, kernel_size=10, stride=1),\n",
        "    torch.nn.MaxPool1d(kernel_size=5),\n",
        "    torch.nn.Conv1d(20, 1, kernel_size=5, stride=1),\n",
        "    torch.nn.Linear(29, 2)\n",
        ")\n",
        "criterion = torch.nn.CrossEntropyLoss()\n",
        "optimizer = torch.optim.SGD(model.parameters(), lr=0.2) #lr: learning rate\n",
        "epochs = 60\n",
        "loss_values = np.zeros(epochs)\n",
        "F1_values_train = np.zeros(epochs)\n",
        "F1_values_test = np.zeros(epochs)\n",
        "\n",
        "\n",
        "for epoch in range(epochs):\n",
        "    X_new = np.expand_dims(X_train, 1) \n",
        "    inputs = torch.autograd.Variable(torch.Tensor(X_new).float())\n",
        "    targets = torch.autograd.Variable(torch.Tensor(Y_train).long())\n",
        "    \n",
        "    optimizer.zero_grad()\n",
        "    out = model(inputs)\n",
        "    out = out.squeeze(dim=1) # necesario para quitar la dimension intermedia de channel\n",
        "    loss = criterion(out, targets)\n",
        "    loss.backward()\n",
        "    optimizer.step()\n",
        "    \n",
        "    values, Y_predicted = torch.max(out.data, 1)\n",
        "    loss_values[epoch] = loss.item()\n",
        "    F1_values_train[epoch] = sklearn.metrics.f1_score(Y_train, Y_predicted, average='macro')\n",
        "    \n",
        "    X_new = np.expand_dims(X_test, 1)\n",
        "    inputs_test = torch.autograd.Variable(torch.Tensor(X_new).float())\n",
        "    out_test = model(inputs_test)\n",
        "    out_test = out_test.squeeze(dim=1)\n",
        "    values, Y_predicted_test = torch.max(out_test.data, 1)\n",
        "    F1_values_test[epoch] = sklearn.metrics.f1_score(Y_test, Y_predicted_test, average='macro')\n"
      ],
      "execution_count": 0,
      "outputs": []
    },
    {
      "cell_type": "code",
      "metadata": {
        "id": "ZH3HQKQZfZS6",
        "colab_type": "code",
        "colab": {
          "base_uri": "https://localhost:8080/",
          "height": 297
        },
        "outputId": "abc8cd9a-3bb9-406f-e6d6-5383209e505f"
      },
      "source": [
        "plt.plot(np.arange(epochs), loss_values)\n",
        "plt.xlabel('epoch')\n",
        "plt.ylabel('loss')"
      ],
      "execution_count": 263,
      "outputs": [
        {
          "output_type": "execute_result",
          "data": {
            "text/plain": [
              "Text(0, 0.5, 'loss')"
            ]
          },
          "metadata": {
            "tags": []
          },
          "execution_count": 263
        },
        {
          "output_type": "display_data",
          "data": {
            "image/png": "[encoded data removed]",
            "text/plain": [
              "<Figure size 432x288 with 1 Axes>"
            ]
          },
          "metadata": {
            "tags": [],
            "needs_background": "light"
          }
        }
      ]
    },
    {
      "cell_type": "code",
      "metadata": {
        "id": "6M7KM5WMhNjC",
        "colab_type": "code",
        "colab": {
          "base_uri": "https://localhost:8080/",
          "height": 297
        },
        "outputId": "59526110-a7e1-43a0-9576-76277f0b41ed"
      },
      "source": [
        "plt.plot(np.arange(epochs), F1_values_train, 'g',label='train')\n",
        "plt.plot(np.arange(epochs), F1_values_test, 'r',label='test')\n",
        "plt.xlabel('epoch')\n",
        "plt.ylabel('F1')\n",
        "plt.legend()"
      ],
      "execution_count": 264,
      "outputs": [
        {
          "output_type": "execute_result",
          "data": {
            "text/plain": [
              "<matplotlib.legend.Legend at 0x7f49b81c9cc0>"
            ]
          },
          "metadata": {
            "tags": []
          },
          "execution_count": 264
        },
        {
          "output_type": "display_data",
          "data": {
            "image/png": "[encoded data removed]",
            "text/plain": [
              "<Figure size 432x288 with 1 Axes>"
            ]
          },
          "metadata": {
            "tags": [],
            "needs_background": "light"
          }
        }
      ]
    }
  ]
}